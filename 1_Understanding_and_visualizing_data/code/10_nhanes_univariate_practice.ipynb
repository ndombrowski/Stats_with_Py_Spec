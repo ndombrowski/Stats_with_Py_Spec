{
 "cells": [
  {
   "cell_type": "markdown",
   "metadata": {},
   "source": [
    "# Practice notebook for univariate analysis using NHANES data\n",
    "\n",
    "This notebook will give you the opportunity to perform some univariate analyses on your own using the NHANES.  These analyses are similar to what was done in the week 2 NHANES case study notebook.\n",
    "\n",
    "You can enter your code into the cells that say \"enter your code here\", and you can type responses to the questions into the cells that say \"Type Markdown and Latex\".\n",
    "\n",
    "Note that most of the code that you will need to write below is very similar to code that appears in the case study notebook.  You will need to edit code from that notebook in small ways to adapt it to the prompts below.\n",
    "\n",
    "To get started, we will use the same module imports and read the data in the same way as we did in the case study:"
   ]
  },
  {
   "cell_type": "code",
   "execution_count": 2,
   "metadata": {},
   "outputs": [
    {
     "data": {
      "text/html": [
       "<div>\n",
       "<style scoped>\n",
       "    .dataframe tbody tr th:only-of-type {\n",
       "        vertical-align: middle;\n",
       "    }\n",
       "\n",
       "    .dataframe tbody tr th {\n",
       "        vertical-align: top;\n",
       "    }\n",
       "\n",
       "    .dataframe thead th {\n",
       "        text-align: right;\n",
       "    }\n",
       "</style>\n",
       "<table border=\"1\" class=\"dataframe\">\n",
       "  <thead>\n",
       "    <tr style=\"text-align: right;\">\n",
       "      <th></th>\n",
       "      <th>SEQN</th>\n",
       "      <th>ALQ101</th>\n",
       "      <th>ALQ110</th>\n",
       "      <th>ALQ130</th>\n",
       "      <th>SMQ020</th>\n",
       "      <th>RIAGENDR</th>\n",
       "      <th>RIDAGEYR</th>\n",
       "      <th>RIDRETH1</th>\n",
       "      <th>DMDCITZN</th>\n",
       "      <th>DMDEDUC2</th>\n",
       "      <th>...</th>\n",
       "      <th>BPXSY2</th>\n",
       "      <th>BPXDI2</th>\n",
       "      <th>BMXWT</th>\n",
       "      <th>BMXHT</th>\n",
       "      <th>BMXBMI</th>\n",
       "      <th>BMXLEG</th>\n",
       "      <th>BMXARML</th>\n",
       "      <th>BMXARMC</th>\n",
       "      <th>BMXWAIST</th>\n",
       "      <th>HIQ210</th>\n",
       "    </tr>\n",
       "  </thead>\n",
       "  <tbody>\n",
       "    <tr>\n",
       "      <th>0</th>\n",
       "      <td>83732</td>\n",
       "      <td>1.0</td>\n",
       "      <td>NaN</td>\n",
       "      <td>1.0</td>\n",
       "      <td>1</td>\n",
       "      <td>1</td>\n",
       "      <td>62</td>\n",
       "      <td>3</td>\n",
       "      <td>1.0</td>\n",
       "      <td>5.0</td>\n",
       "      <td>...</td>\n",
       "      <td>124.0</td>\n",
       "      <td>64.0</td>\n",
       "      <td>94.8</td>\n",
       "      <td>184.5</td>\n",
       "      <td>27.8</td>\n",
       "      <td>43.3</td>\n",
       "      <td>43.6</td>\n",
       "      <td>35.9</td>\n",
       "      <td>101.1</td>\n",
       "      <td>2.0</td>\n",
       "    </tr>\n",
       "    <tr>\n",
       "      <th>1</th>\n",
       "      <td>83733</td>\n",
       "      <td>1.0</td>\n",
       "      <td>NaN</td>\n",
       "      <td>6.0</td>\n",
       "      <td>1</td>\n",
       "      <td>1</td>\n",
       "      <td>53</td>\n",
       "      <td>3</td>\n",
       "      <td>2.0</td>\n",
       "      <td>3.0</td>\n",
       "      <td>...</td>\n",
       "      <td>140.0</td>\n",
       "      <td>88.0</td>\n",
       "      <td>90.4</td>\n",
       "      <td>171.4</td>\n",
       "      <td>30.8</td>\n",
       "      <td>38.0</td>\n",
       "      <td>40.0</td>\n",
       "      <td>33.2</td>\n",
       "      <td>107.9</td>\n",
       "      <td>NaN</td>\n",
       "    </tr>\n",
       "    <tr>\n",
       "      <th>2</th>\n",
       "      <td>83734</td>\n",
       "      <td>1.0</td>\n",
       "      <td>NaN</td>\n",
       "      <td>NaN</td>\n",
       "      <td>1</td>\n",
       "      <td>1</td>\n",
       "      <td>78</td>\n",
       "      <td>3</td>\n",
       "      <td>1.0</td>\n",
       "      <td>3.0</td>\n",
       "      <td>...</td>\n",
       "      <td>132.0</td>\n",
       "      <td>44.0</td>\n",
       "      <td>83.4</td>\n",
       "      <td>170.1</td>\n",
       "      <td>28.8</td>\n",
       "      <td>35.6</td>\n",
       "      <td>37.0</td>\n",
       "      <td>31.0</td>\n",
       "      <td>116.5</td>\n",
       "      <td>2.0</td>\n",
       "    </tr>\n",
       "    <tr>\n",
       "      <th>3</th>\n",
       "      <td>83735</td>\n",
       "      <td>2.0</td>\n",
       "      <td>1.0</td>\n",
       "      <td>1.0</td>\n",
       "      <td>2</td>\n",
       "      <td>2</td>\n",
       "      <td>56</td>\n",
       "      <td>3</td>\n",
       "      <td>1.0</td>\n",
       "      <td>5.0</td>\n",
       "      <td>...</td>\n",
       "      <td>134.0</td>\n",
       "      <td>68.0</td>\n",
       "      <td>109.8</td>\n",
       "      <td>160.9</td>\n",
       "      <td>42.4</td>\n",
       "      <td>38.5</td>\n",
       "      <td>37.7</td>\n",
       "      <td>38.3</td>\n",
       "      <td>110.1</td>\n",
       "      <td>2.0</td>\n",
       "    </tr>\n",
       "    <tr>\n",
       "      <th>4</th>\n",
       "      <td>83736</td>\n",
       "      <td>2.0</td>\n",
       "      <td>1.0</td>\n",
       "      <td>1.0</td>\n",
       "      <td>2</td>\n",
       "      <td>2</td>\n",
       "      <td>42</td>\n",
       "      <td>4</td>\n",
       "      <td>1.0</td>\n",
       "      <td>4.0</td>\n",
       "      <td>...</td>\n",
       "      <td>114.0</td>\n",
       "      <td>54.0</td>\n",
       "      <td>55.2</td>\n",
       "      <td>164.9</td>\n",
       "      <td>20.3</td>\n",
       "      <td>37.4</td>\n",
       "      <td>36.0</td>\n",
       "      <td>27.2</td>\n",
       "      <td>80.4</td>\n",
       "      <td>2.0</td>\n",
       "    </tr>\n",
       "  </tbody>\n",
       "</table>\n",
       "<p>5 rows × 28 columns</p>\n",
       "</div>"
      ],
      "text/plain": [
       "    SEQN  ALQ101  ALQ110  ALQ130  SMQ020  RIAGENDR  RIDAGEYR  RIDRETH1  \\\n",
       "0  83732     1.0     NaN     1.0       1         1        62         3   \n",
       "1  83733     1.0     NaN     6.0       1         1        53         3   \n",
       "2  83734     1.0     NaN     NaN       1         1        78         3   \n",
       "3  83735     2.0     1.0     1.0       2         2        56         3   \n",
       "4  83736     2.0     1.0     1.0       2         2        42         4   \n",
       "\n",
       "   DMDCITZN  DMDEDUC2  ...  BPXSY2  BPXDI2  BMXWT  BMXHT  BMXBMI  BMXLEG  \\\n",
       "0       1.0       5.0  ...   124.0    64.0   94.8  184.5    27.8    43.3   \n",
       "1       2.0       3.0  ...   140.0    88.0   90.4  171.4    30.8    38.0   \n",
       "2       1.0       3.0  ...   132.0    44.0   83.4  170.1    28.8    35.6   \n",
       "3       1.0       5.0  ...   134.0    68.0  109.8  160.9    42.4    38.5   \n",
       "4       1.0       4.0  ...   114.0    54.0   55.2  164.9    20.3    37.4   \n",
       "\n",
       "   BMXARML  BMXARMC  BMXWAIST  HIQ210  \n",
       "0     43.6     35.9     101.1     2.0  \n",
       "1     40.0     33.2     107.9     NaN  \n",
       "2     37.0     31.0     116.5     2.0  \n",
       "3     37.7     38.3     110.1     2.0  \n",
       "4     36.0     27.2      80.4     2.0  \n",
       "\n",
       "[5 rows x 28 columns]"
      ]
     },
     "execution_count": 2,
     "metadata": {},
     "output_type": "execute_result"
    }
   ],
   "source": [
    "%matplotlib inline\n",
    "import matplotlib.pyplot as plt\n",
    "import seaborn as sns\n",
    "import pandas as pd\n",
    "import statsmodels.api as sm\n",
    "import numpy as np\n",
    "\n",
    "da = pd.read_csv(\"../data/nhanes_2015_2016.csv\")\n",
    "da.head()"
   ]
  },
  {
   "cell_type": "markdown",
   "metadata": {},
   "source": [
    "## Question 1\n",
    "\n",
    "Relabel the marital status variable [DMDMARTL](https://wwwn.cdc.gov/Nchs/Nhanes/2015-2016/DEMO_I.htm#DMDMARTL) to have brief but informative character labels.  Then construct a frequency table of these values for all people, then for women only, and for men only.  Then construct these three frequency tables using only people whose age is between 30 and 40."
   ]
  },
  {
   "cell_type": "code",
   "execution_count": 52,
   "metadata": {},
   "outputs": [
    {
     "data": {
      "text/plain": [
       "Married                48.474281\n",
       "Never married          17.506539\n",
       "Divorced               10.095902\n",
       "Living with partner     9.189189\n",
       "Widowed                 6.904969\n",
       "Missing                 4.551003\n",
       "Separated               3.243243\n",
       "Refused                 0.034874\n",
       "Name: DMDMARTLx, dtype: float64"
      ]
     },
     "execution_count": 52,
     "metadata": {},
     "output_type": "execute_result"
    }
   ],
   "source": [
    "# relabel colum\n",
    "da['DMDMARTLx'] = da['DMDMARTL'].replace({1:'Married', 2:'Widowed', 3:'Divorced', 4:'Separated', 5:'Never married', 6:'Living with partner', 77:'Refused', 99:'Unknown' }).fillna('Missing')\n",
    "da['RIAGENDRx'] = da['RIAGENDR'].replace({1:'Male', 2:'Female'})\n",
    "\n",
    "#create freq table\n",
    "x = da['DMDMARTLx'].value_counts()\n",
    "x / x.sum()*100"
   ]
  },
  {
   "cell_type": "code",
   "execution_count": 21,
   "metadata": {},
   "outputs": [
    {
     "data": {
      "text/plain": [
       "Married                43.783602\n",
       "Never married          17.473118\n",
       "Divorced               11.760753\n",
       "Widowed                 9.946237\n",
       "Living with partner     8.803763\n",
       "Missing                 4.233871\n",
       "Separated               3.965054\n",
       "Refused                 0.033602\n",
       "Name: DMDMARTLx, dtype: float64"
      ]
     },
     "execution_count": 21,
     "metadata": {},
     "output_type": "execute_result"
    }
   ],
   "source": [
    "#freq table for women only\n",
    "x = da[da['RIAGENDR']==2]['DMDMARTLx'].value_counts()\n",
    "x / x.sum()*100"
   ]
  },
  {
   "cell_type": "code",
   "execution_count": 22,
   "metadata": {},
   "outputs": [
    {
     "data": {
      "text/plain": [
       "Married                53.533889\n",
       "Never married          17.542588\n",
       "Living with partner     9.604929\n",
       "Divorced                8.300109\n",
       "Missing                 4.893077\n",
       "Widowed                 3.624502\n",
       "Separated               2.464661\n",
       "Refused                 0.036245\n",
       "Name: DMDMARTLx, dtype: float64"
      ]
     },
     "execution_count": 22,
     "metadata": {},
     "output_type": "execute_result"
    }
   ],
   "source": [
    "#freq table for male only\n",
    "x = da[da['RIAGENDR']==1]['DMDMARTLx'].value_counts()\n",
    "x / x.sum()*100"
   ]
  },
  {
   "cell_type": "code",
   "execution_count": 23,
   "metadata": {},
   "outputs": [
    {
     "data": {
      "text/plain": [
       "Married                54.580897\n",
       "Never married          21.150097\n",
       "Living with partner    13.937622\n",
       "Divorced                6.822612\n",
       "Separated               2.923977\n",
       "Widowed                 0.487329\n",
       "Refused                 0.097466\n",
       "Name: DMDMARTLx, dtype: float64"
      ]
     },
     "execution_count": 23,
     "metadata": {},
     "output_type": "execute_result"
    }
   ],
   "source": [
    "#freq table for all people, age 30-40\n",
    "age30_40 = da[(da['RIDAGEYR'] >= 30) & (da['RIDAGEYR'] <= 40)]\n",
    "x = age30_40['DMDMARTLx'].value_counts()\n",
    "x / x.sum()*100"
   ]
  },
  {
   "cell_type": "code",
   "execution_count": 24,
   "metadata": {},
   "outputs": [
    {
     "data": {
      "text/plain": [
       "Married                53.571429\n",
       "Never married          21.804511\n",
       "Living with partner    12.218045\n",
       "Divorced                8.646617\n",
       "Separated               3.383459\n",
       "Widowed                 0.375940\n",
       "Name: DMDMARTLx, dtype: float64"
      ]
     },
     "execution_count": 24,
     "metadata": {},
     "output_type": "execute_result"
    }
   ],
   "source": [
    "#freq table for females, age 30-40\n",
    "x = age30_40[age30_40['RIAGENDR']==2]['DMDMARTLx'].value_counts()\n",
    "x / x.sum()*100"
   ]
  },
  {
   "cell_type": "code",
   "execution_count": 25,
   "metadata": {},
   "outputs": [
    {
     "data": {
      "text/plain": [
       "Married                55.668016\n",
       "Never married          20.445344\n",
       "Living with partner    15.789474\n",
       "Divorced                4.858300\n",
       "Separated               2.429150\n",
       "Widowed                 0.607287\n",
       "Refused                 0.202429\n",
       "Name: DMDMARTLx, dtype: float64"
      ]
     },
     "execution_count": 25,
     "metadata": {},
     "output_type": "execute_result"
    }
   ],
   "source": [
    "#freq table for males, age 30-40\n",
    "x = age30_40[age30_40['RIAGENDR']==1]['DMDMARTLx'].value_counts()\n",
    "x / x.sum()*100"
   ]
  },
  {
   "cell_type": "markdown",
   "metadata": {},
   "source": [
    "__Q1a.__ Briefly comment on some of the differences that you observe between the distribution of marital status between women and men, for people of all ages."
   ]
  },
  {
   "cell_type": "raw",
   "metadata": {},
   "source": [
    "There are less married women and that seems to be due to more women being divorced"
   ]
  },
  {
   "cell_type": "markdown",
   "metadata": {},
   "source": [
    "__Q1b.__ Briefly comment on the differences that you observe between the distribution of marital status states for women between the overall population, and for women between the ages of 30 and 40."
   ]
  },
  {
   "cell_type": "raw",
   "metadata": {},
   "source": [
    "More women between 30-40 are married compared to the whole population and this group as less rates of widowed women"
   ]
  },
  {
   "cell_type": "markdown",
   "metadata": {},
   "source": [
    "__Q1c.__ Repeat part b for the men."
   ]
  },
  {
   "cell_type": "raw",
   "metadata": {},
   "source": [
    "More man in their 30-4o live with a partner"
   ]
  },
  {
   "cell_type": "markdown",
   "metadata": {},
   "source": [
    "## Question 2\n",
    "\n",
    "Restricting to the female population, stratify the subjects into age bands no wider than ten years, and construct the distribution of marital status within each age band.  Within each age band, present the distribution in terms of proportions that must sum to 1."
   ]
  },
  {
   "cell_type": "code",
   "execution_count": 44,
   "metadata": {},
   "outputs": [
    {
     "data": {
      "text/html": [
       "<div>\n",
       "<style scoped>\n",
       "    .dataframe tbody tr th:only-of-type {\n",
       "        vertical-align: middle;\n",
       "    }\n",
       "\n",
       "    .dataframe tbody tr th {\n",
       "        vertical-align: top;\n",
       "    }\n",
       "\n",
       "    .dataframe thead th {\n",
       "        text-align: right;\n",
       "    }\n",
       "</style>\n",
       "<table border=\"1\" class=\"dataframe\">\n",
       "  <thead>\n",
       "    <tr style=\"text-align: right;\">\n",
       "      <th>DMDMARTLx</th>\n",
       "      <th>Divorced</th>\n",
       "      <th>Living with partner</th>\n",
       "      <th>Married</th>\n",
       "      <th>Missing</th>\n",
       "      <th>Never married</th>\n",
       "      <th>Refused</th>\n",
       "      <th>Separated</th>\n",
       "      <th>Widowed</th>\n",
       "    </tr>\n",
       "    <tr>\n",
       "      <th>agegr</th>\n",
       "      <th></th>\n",
       "      <th></th>\n",
       "      <th></th>\n",
       "      <th></th>\n",
       "      <th></th>\n",
       "      <th></th>\n",
       "      <th></th>\n",
       "      <th></th>\n",
       "    </tr>\n",
       "  </thead>\n",
       "  <tbody>\n",
       "    <tr>\n",
       "      <th>(18, 30]</th>\n",
       "      <td>1.806240</td>\n",
       "      <td>18.719212</td>\n",
       "      <td>25.944171</td>\n",
       "      <td>9.195402</td>\n",
       "      <td>42.528736</td>\n",
       "      <td>0.000000</td>\n",
       "      <td>1.806240</td>\n",
       "      <td>0.000000</td>\n",
       "    </tr>\n",
       "    <tr>\n",
       "      <th>(30, 40]</th>\n",
       "      <td>9.071730</td>\n",
       "      <td>12.025316</td>\n",
       "      <td>54.430380</td>\n",
       "      <td>0.000000</td>\n",
       "      <td>20.464135</td>\n",
       "      <td>0.000000</td>\n",
       "      <td>3.586498</td>\n",
       "      <td>0.421941</td>\n",
       "    </tr>\n",
       "    <tr>\n",
       "      <th>(40, 50]</th>\n",
       "      <td>13.745020</td>\n",
       "      <td>7.370518</td>\n",
       "      <td>57.370518</td>\n",
       "      <td>0.000000</td>\n",
       "      <td>12.549801</td>\n",
       "      <td>0.000000</td>\n",
       "      <td>6.573705</td>\n",
       "      <td>2.390438</td>\n",
       "    </tr>\n",
       "    <tr>\n",
       "      <th>(50, 60]</th>\n",
       "      <td>17.659574</td>\n",
       "      <td>6.808511</td>\n",
       "      <td>54.680851</td>\n",
       "      <td>0.000000</td>\n",
       "      <td>8.936170</td>\n",
       "      <td>0.212766</td>\n",
       "      <td>5.744681</td>\n",
       "      <td>5.957447</td>\n",
       "    </tr>\n",
       "    <tr>\n",
       "      <th>(60, 70]</th>\n",
       "      <td>19.274376</td>\n",
       "      <td>4.308390</td>\n",
       "      <td>48.072562</td>\n",
       "      <td>0.000000</td>\n",
       "      <td>8.616780</td>\n",
       "      <td>0.000000</td>\n",
       "      <td>4.988662</td>\n",
       "      <td>14.739229</td>\n",
       "    </tr>\n",
       "    <tr>\n",
       "      <th>(70, 80]</th>\n",
       "      <td>14.390244</td>\n",
       "      <td>0.731707</td>\n",
       "      <td>31.707317</td>\n",
       "      <td>0.000000</td>\n",
       "      <td>5.121951</td>\n",
       "      <td>0.000000</td>\n",
       "      <td>1.951220</td>\n",
       "      <td>46.097561</td>\n",
       "    </tr>\n",
       "  </tbody>\n",
       "</table>\n",
       "</div>"
      ],
      "text/plain": [
       "DMDMARTLx   Divorced  Living with partner    Married   Missing  Never married  \\\n",
       "agegr                                                                           \n",
       "(18, 30]    1.806240            18.719212  25.944171  9.195402      42.528736   \n",
       "(30, 40]    9.071730            12.025316  54.430380  0.000000      20.464135   \n",
       "(40, 50]   13.745020             7.370518  57.370518  0.000000      12.549801   \n",
       "(50, 60]   17.659574             6.808511  54.680851  0.000000       8.936170   \n",
       "(60, 70]   19.274376             4.308390  48.072562  0.000000       8.616780   \n",
       "(70, 80]   14.390244             0.731707  31.707317  0.000000       5.121951   \n",
       "\n",
       "DMDMARTLx   Refused  Separated    Widowed  \n",
       "agegr                                      \n",
       "(18, 30]   0.000000   1.806240   0.000000  \n",
       "(30, 40]   0.000000   3.586498   0.421941  \n",
       "(40, 50]   0.000000   6.573705   2.390438  \n",
       "(50, 60]   0.212766   5.744681   5.957447  \n",
       "(60, 70]   0.000000   4.988662  14.739229  \n",
       "(70, 80]   0.000000   1.951220  46.097561  "
      ]
     },
     "execution_count": 44,
     "metadata": {},
     "output_type": "execute_result"
    }
   ],
   "source": [
    "#subset df\n",
    "females = da[da['RIAGENDR'] == 2].copy()\n",
    "\n",
    "#stratify\n",
    "females['agegr'] = pd.cut(females['RIDAGEYR'], [18, 30, 40, 50, 60, 70, 80])\n",
    "\n",
    "#group data\n",
    "df =females.groupby(\"agegr\")[\"DMDMARTLx\"].value_counts().unstack().fillna(0)\n",
    "\n",
    "#normalize\n",
    "df = df.apply(lambda x : x/x.sum() * 100, axis = 1)\n",
    "\n",
    "df"
   ]
  },
  {
   "cell_type": "markdown",
   "metadata": {},
   "source": [
    "__Q2a.__ Comment on the trends that you see in this series of marginal distributions."
   ]
  },
  {
   "cell_type": "raw",
   "metadata": {},
   "source": [
    "We see an increase in: divorce over age groups\n",
    "We see a decrease in the proportion of females living with a partner + women never married\n",
    "There is a big spike in marriages (up to 50%) from age group 18-30 to 30-40 and then a slow decline\n",
    "The largest group of widowed women is in the oldest age group"
   ]
  },
  {
   "cell_type": "markdown",
   "metadata": {},
   "source": [
    "__Q2b.__ Repeat the construction for males."
   ]
  },
  {
   "cell_type": "code",
   "execution_count": 45,
   "metadata": {},
   "outputs": [
    {
     "data": {
      "text/html": [
       "<div>\n",
       "<style scoped>\n",
       "    .dataframe tbody tr th:only-of-type {\n",
       "        vertical-align: middle;\n",
       "    }\n",
       "\n",
       "    .dataframe tbody tr th {\n",
       "        vertical-align: top;\n",
       "    }\n",
       "\n",
       "    .dataframe thead th {\n",
       "        text-align: right;\n",
       "    }\n",
       "</style>\n",
       "<table border=\"1\" class=\"dataframe\">\n",
       "  <thead>\n",
       "    <tr style=\"text-align: right;\">\n",
       "      <th>DMDMARTLx</th>\n",
       "      <th>Divorced</th>\n",
       "      <th>Living with partner</th>\n",
       "      <th>Married</th>\n",
       "      <th>Missing</th>\n",
       "      <th>Never married</th>\n",
       "      <th>Refused</th>\n",
       "      <th>Separated</th>\n",
       "      <th>Widowed</th>\n",
       "    </tr>\n",
       "    <tr>\n",
       "      <th>agegr</th>\n",
       "      <th></th>\n",
       "      <th></th>\n",
       "      <th></th>\n",
       "      <th></th>\n",
       "      <th></th>\n",
       "      <th></th>\n",
       "      <th></th>\n",
       "      <th></th>\n",
       "    </tr>\n",
       "  </thead>\n",
       "  <tbody>\n",
       "    <tr>\n",
       "      <th>(18, 30]</th>\n",
       "      <td>0.367647</td>\n",
       "      <td>17.463235</td>\n",
       "      <td>19.117647</td>\n",
       "      <td>13.235294</td>\n",
       "      <td>48.161765</td>\n",
       "      <td>0.000000</td>\n",
       "      <td>1.286765</td>\n",
       "      <td>0.367647</td>\n",
       "    </tr>\n",
       "    <tr>\n",
       "      <th>(30, 40]</th>\n",
       "      <td>5.240175</td>\n",
       "      <td>15.720524</td>\n",
       "      <td>56.331878</td>\n",
       "      <td>0.000000</td>\n",
       "      <td>19.432314</td>\n",
       "      <td>0.218341</td>\n",
       "      <td>2.620087</td>\n",
       "      <td>0.436681</td>\n",
       "    </tr>\n",
       "    <tr>\n",
       "      <th>(40, 50]</th>\n",
       "      <td>8.478803</td>\n",
       "      <td>8.229426</td>\n",
       "      <td>70.324190</td>\n",
       "      <td>0.000000</td>\n",
       "      <td>9.725686</td>\n",
       "      <td>0.000000</td>\n",
       "      <td>2.743142</td>\n",
       "      <td>0.498753</td>\n",
       "    </tr>\n",
       "    <tr>\n",
       "      <th>(50, 60]</th>\n",
       "      <td>12.555066</td>\n",
       "      <td>7.488987</td>\n",
       "      <td>65.198238</td>\n",
       "      <td>0.000000</td>\n",
       "      <td>10.352423</td>\n",
       "      <td>0.000000</td>\n",
       "      <td>2.202643</td>\n",
       "      <td>2.202643</td>\n",
       "    </tr>\n",
       "    <tr>\n",
       "      <th>(60, 70]</th>\n",
       "      <td>12.585812</td>\n",
       "      <td>5.034325</td>\n",
       "      <td>66.590389</td>\n",
       "      <td>0.000000</td>\n",
       "      <td>8.695652</td>\n",
       "      <td>0.000000</td>\n",
       "      <td>3.203661</td>\n",
       "      <td>3.890160</td>\n",
       "    </tr>\n",
       "    <tr>\n",
       "      <th>(70, 80]</th>\n",
       "      <td>14.179104</td>\n",
       "      <td>2.238806</td>\n",
       "      <td>61.194030</td>\n",
       "      <td>0.000000</td>\n",
       "      <td>2.238806</td>\n",
       "      <td>0.000000</td>\n",
       "      <td>3.482587</td>\n",
       "      <td>16.666667</td>\n",
       "    </tr>\n",
       "  </tbody>\n",
       "</table>\n",
       "</div>"
      ],
      "text/plain": [
       "DMDMARTLx   Divorced  Living with partner    Married    Missing  \\\n",
       "agegr                                                             \n",
       "(18, 30]    0.367647            17.463235  19.117647  13.235294   \n",
       "(30, 40]    5.240175            15.720524  56.331878   0.000000   \n",
       "(40, 50]    8.478803             8.229426  70.324190   0.000000   \n",
       "(50, 60]   12.555066             7.488987  65.198238   0.000000   \n",
       "(60, 70]   12.585812             5.034325  66.590389   0.000000   \n",
       "(70, 80]   14.179104             2.238806  61.194030   0.000000   \n",
       "\n",
       "DMDMARTLx  Never married   Refused  Separated    Widowed  \n",
       "agegr                                                     \n",
       "(18, 30]       48.161765  0.000000   1.286765   0.367647  \n",
       "(30, 40]       19.432314  0.218341   2.620087   0.436681  \n",
       "(40, 50]        9.725686  0.000000   2.743142   0.498753  \n",
       "(50, 60]       10.352423  0.000000   2.202643   2.202643  \n",
       "(60, 70]        8.695652  0.000000   3.203661   3.890160  \n",
       "(70, 80]        2.238806  0.000000   3.482587  16.666667  "
      ]
     },
     "execution_count": 45,
     "metadata": {},
     "output_type": "execute_result"
    }
   ],
   "source": [
    "#subset df\n",
    "males = da[da['RIAGENDR'] == 1].copy()\n",
    "\n",
    "#stratify\n",
    "males['agegr'] = pd.cut(males['RIDAGEYR'], [18, 30, 40, 50, 60, 70, 80])\n",
    "\n",
    "#group data\n",
    "df =males.groupby(\"agegr\")[\"DMDMARTLx\"].value_counts().unstack().fillna(0)\n",
    "\n",
    "#normalize\n",
    "df = df.apply(lambda x : x/x.sum() * 100, axis = 1)\n",
    "\n",
    "df"
   ]
  },
  {
   "cell_type": "markdown",
   "metadata": {},
   "source": [
    "__Q2c.__ Comment on any notable differences that you see when comparing these results for females and for males."
   ]
  },
  {
   "cell_type": "raw",
   "metadata": {},
   "source": [
    "Increase in divorce over time\n",
    "Decrease of males living with a partner and males that never married\n",
    "Largest increase in married males in group 30-40 and then slow decrease (but not to levels as for females)\n",
    "Separated relatively constant\n",
    "Largest increase in widowed men in the last group (but small compared to females)"
   ]
  },
  {
   "cell_type": "markdown",
   "metadata": {},
   "source": [
    "## Question 3\n",
    "\n",
    "Construct a histogram of the distribution of heights using the BMXHT variable in the NHANES sample."
   ]
  },
  {
   "cell_type": "code",
   "execution_count": 47,
   "metadata": {},
   "outputs": [
    {
     "data": {
      "image/png": "[encoded data removed]",
      "text/plain": [
       "<Figure size 640x480 with 1 Axes>"
      ]
     },
     "metadata": {},
     "output_type": "display_data"
    }
   ],
   "source": [
    "sns.histplot(da.BMXHT)\n",
    "plt.show()"
   ]
  },
  {
   "cell_type": "markdown",
   "metadata": {},
   "source": [
    "__Q3a.__ Use the `bins` argument to [distplot](https://seaborn.pydata.org/generated/seaborn.distplot.html) to produce histograms with different numbers of bins.  Assess whether the default value for this argument gives a meaningful result, and comment on what happens as the number of bins grows excessively large or excessively small. "
   ]
  },
  {
   "cell_type": "code",
   "execution_count": 49,
   "metadata": {},
   "outputs": [
    {
     "data": {
      "image/png": "[encoded data removed]",
      "text/plain": [
       "<Figure size 640x480 with 1 Axes>"
      ]
     },
     "metadata": {},
     "output_type": "display_data"
    }
   ],
   "source": [
    "sns.histplot(da.BMXHT, bins = 200)\n",
    "plt.show()"
   ]
  },
  {
   "cell_type": "raw",
   "metadata": {},
   "source": [
    "The value looks good"
   ]
  },
  {
   "cell_type": "markdown",
   "metadata": {},
   "source": [
    "__Q3b.__ Make separate histograms for the heights of women and men, then make a side-by-side boxplot showing the heights of women and men."
   ]
  },
  {
   "cell_type": "code",
   "execution_count": 54,
   "metadata": {},
   "outputs": [
    {
     "data": {
      "image/png": "[encoded data removed]",
      "text/plain": [
       "<Figure size 300x600 with 2 Axes>"
      ]
     },
     "metadata": {},
     "output_type": "display_data"
    }
   ],
   "source": [
    "g = sns.FacetGrid(da, row = 'RIAGENDRx')\n",
    "g = g.map(plt.hist, \"BMXHT\")\n",
    "plt.show()"
   ]
  },
  {
   "cell_type": "code",
   "execution_count": 56,
   "metadata": {},
   "outputs": [
    {
     "data": {
      "image/png": "[encoded data removed]",
      "text/plain": [
       "<Figure size 640x480 with 1 Axes>"
      ]
     },
     "metadata": {},
     "output_type": "display_data"
    }
   ],
   "source": [
    "sns.boxplot(y = da['BMXHT'], x = da['RIAGENDRx'])\n",
    "plt.show()"
   ]
  },
  {
   "cell_type": "markdown",
   "metadata": {},
   "source": [
    "__Q3c.__ Comment on what features, if any are not represented clearly in the boxplots, and what features, if any, are easier to see in the boxplots than in the histograms."
   ]
  },
  {
   "cell_type": "raw",
   "metadata": {},
   "source": [
    "Males are larger than females (we can see this in both plots, however the median is easier to see in the boxplot). There are outliers on both ends (clearer in the boxplot)"
   ]
  },
  {
   "cell_type": "markdown",
   "metadata": {},
   "source": [
    "## Question 4\n",
    "\n",
    "Make a boxplot showing the distribution of within-subject differences between the first and second systolic blood pressure measurents ([BPXSY1](https://wwwn.cdc.gov/Nchs/Nhanes/2015-2016/BPX_I.htm#BPXSY1) and [BPXSY2](https://wwwn.cdc.gov/Nchs/Nhanes/2015-2016/BPX_I.htm#BPXSY2))."
   ]
  },
  {
   "cell_type": "code",
   "execution_count": 64,
   "metadata": {},
   "outputs": [
    {
     "data": {
      "image/png": "[encoded data removed]",
      "text/plain": [
       "<Figure size 640x480 with 1 Axes>"
      ]
     },
     "metadata": {},
     "output_type": "display_data"
    }
   ],
   "source": [
    "sns.boxplot(da[['BPXSY1', 'BPXSY2']])\n",
    "plt.show()"
   ]
  },
  {
   "cell_type": "markdown",
   "metadata": {},
   "source": [
    "__Q4a.__ What proportion of the subjects have a lower SBP on the second reading compared to the first?"
   ]
  },
  {
   "cell_type": "code",
   "execution_count": null,
   "metadata": {},
   "outputs": [],
   "source": [
    "# insert your code here"
   ]
  },
  {
   "cell_type": "markdown",
   "metadata": {},
   "source": [
    "__Q4b.__ Make side-by-side boxplots of the two systolic blood pressure variables."
   ]
  },
  {
   "cell_type": "code",
   "execution_count": 65,
   "metadata": {},
   "outputs": [
    {
     "data": {
      "image/png": "[encoded data removed]",
      "text/plain": [
       "<Figure size 640x480 with 1 Axes>"
      ]
     },
     "metadata": {},
     "output_type": "display_data"
    }
   ],
   "source": [
    "sns.boxplot(da[['BPXSY1', 'BPXSY2']])\n",
    "plt.show()"
   ]
  },
  {
   "cell_type": "code",
   "execution_count": 63,
   "metadata": {},
   "outputs": [
    {
     "data": {
      "image/png": "[encoded data removed]",
      "text/plain": [
       "<Figure size 640x480 with 2 Axes>"
      ]
     },
     "metadata": {},
     "output_type": "display_data"
    }
   ],
   "source": [
    "fig, ax =plt.subplots(1,2)\n",
    "sns.boxplot(da['BPXSY1'], ax = ax[0]).set_title(\"BPXSY1\")\n",
    "sns.boxplot(da['BPXSY2'], ax = ax[1]).set_title(\"BPXSY2\")\n",
    "plt.show()"
   ]
  },
  {
   "cell_type": "markdown",
   "metadata": {},
   "source": [
    "__Q4c.__ Comment on the variation within either the first or second systolic blood pressure measurements, and the variation in the within-subject differences between the first and second systolic blood pressure measurements."
   ]
  },
  {
   "cell_type": "raw",
   "metadata": {},
   "source": []
  },
  {
   "cell_type": "markdown",
   "metadata": {},
   "source": [
    "## Question 5\n",
    "\n",
    "Construct a frequency table of household sizes for people within each educational attainment category (the relevant variable is [DMDEDUC2](https://wwwn.cdc.gov/Nchs/Nhanes/2015-2016/DEMO_I.htm#DMDEDUC2)).  Convert the frequencies to proportions."
   ]
  },
  {
   "cell_type": "code",
   "execution_count": 67,
   "metadata": {},
   "outputs": [
    {
     "data": {
      "text/html": [
       "<div>\n",
       "<style scoped>\n",
       "    .dataframe tbody tr th:only-of-type {\n",
       "        vertical-align: middle;\n",
       "    }\n",
       "\n",
       "    .dataframe tbody tr th {\n",
       "        vertical-align: top;\n",
       "    }\n",
       "\n",
       "    .dataframe thead th {\n",
       "        text-align: right;\n",
       "    }\n",
       "</style>\n",
       "<table border=\"1\" class=\"dataframe\">\n",
       "  <thead>\n",
       "    <tr style=\"text-align: right;\">\n",
       "      <th>DMDHHSIZ</th>\n",
       "      <th>1</th>\n",
       "      <th>2</th>\n",
       "      <th>3</th>\n",
       "      <th>4</th>\n",
       "      <th>5</th>\n",
       "      <th>6</th>\n",
       "      <th>7</th>\n",
       "    </tr>\n",
       "    <tr>\n",
       "      <th>DMDEDUC2</th>\n",
       "      <th></th>\n",
       "      <th></th>\n",
       "      <th></th>\n",
       "      <th></th>\n",
       "      <th></th>\n",
       "      <th></th>\n",
       "      <th></th>\n",
       "    </tr>\n",
       "  </thead>\n",
       "  <tbody>\n",
       "    <tr>\n",
       "      <th>1.0</th>\n",
       "      <td>0.109924</td>\n",
       "      <td>0.224427</td>\n",
       "      <td>0.146565</td>\n",
       "      <td>0.132824</td>\n",
       "      <td>0.148092</td>\n",
       "      <td>0.108397</td>\n",
       "      <td>0.129771</td>\n",
       "    </tr>\n",
       "    <tr>\n",
       "      <th>2.0</th>\n",
       "      <td>0.116641</td>\n",
       "      <td>0.222395</td>\n",
       "      <td>0.163297</td>\n",
       "      <td>0.152411</td>\n",
       "      <td>0.146190</td>\n",
       "      <td>0.113530</td>\n",
       "      <td>0.085537</td>\n",
       "    </tr>\n",
       "    <tr>\n",
       "      <th>3.0</th>\n",
       "      <td>0.152614</td>\n",
       "      <td>0.270658</td>\n",
       "      <td>0.171164</td>\n",
       "      <td>0.161889</td>\n",
       "      <td>0.109612</td>\n",
       "      <td>0.065767</td>\n",
       "      <td>0.068297</td>\n",
       "    </tr>\n",
       "    <tr>\n",
       "      <th>4.0</th>\n",
       "      <td>0.151141</td>\n",
       "      <td>0.268970</td>\n",
       "      <td>0.193091</td>\n",
       "      <td>0.169031</td>\n",
       "      <td>0.122147</td>\n",
       "      <td>0.050586</td>\n",
       "      <td>0.045034</td>\n",
       "    </tr>\n",
       "    <tr>\n",
       "      <th>5.0</th>\n",
       "      <td>0.142753</td>\n",
       "      <td>0.347731</td>\n",
       "      <td>0.193997</td>\n",
       "      <td>0.165447</td>\n",
       "      <td>0.095168</td>\n",
       "      <td>0.029283</td>\n",
       "      <td>0.025622</td>\n",
       "    </tr>\n",
       "    <tr>\n",
       "      <th>9.0</th>\n",
       "      <td>NaN</td>\n",
       "      <td>0.666667</td>\n",
       "      <td>NaN</td>\n",
       "      <td>NaN</td>\n",
       "      <td>0.333333</td>\n",
       "      <td>NaN</td>\n",
       "      <td>NaN</td>\n",
       "    </tr>\n",
       "  </tbody>\n",
       "</table>\n",
       "</div>"
      ],
      "text/plain": [
       "DMDHHSIZ         1         2         3         4         5         6         7\n",
       "DMDEDUC2                                                                      \n",
       "1.0       0.109924  0.224427  0.146565  0.132824  0.148092  0.108397  0.129771\n",
       "2.0       0.116641  0.222395  0.163297  0.152411  0.146190  0.113530  0.085537\n",
       "3.0       0.152614  0.270658  0.171164  0.161889  0.109612  0.065767  0.068297\n",
       "4.0       0.151141  0.268970  0.193091  0.169031  0.122147  0.050586  0.045034\n",
       "5.0       0.142753  0.347731  0.193997  0.165447  0.095168  0.029283  0.025622\n",
       "9.0            NaN  0.666667       NaN       NaN  0.333333       NaN       NaN"
      ]
     },
     "execution_count": 67,
     "metadata": {},
     "output_type": "execute_result"
    }
   ],
   "source": [
    "dx = da.groupby([\"DMDEDUC2\"])[\"DMDHHSIZ\"].value_counts().unstack()\n",
    "dx = dx.apply(lambda x: x/x.sum(), axis=1)\n",
    "dx\n",
    "#print(dx.to_string(float_format=\"%.2f\")) "
   ]
  },
  {
   "cell_type": "markdown",
   "metadata": {},
   "source": [
    "__Q5a.__ Comment on any major differences among the distributions."
   ]
  },
  {
   "cell_type": "raw",
   "metadata": {},
   "source": []
  },
  {
   "cell_type": "markdown",
   "metadata": {},
   "source": [
    "__Q5b.__ Restrict the sample to people between 30 and 40 years of age.  Then calculate the median household size for women and men within each level of educational attainment."
   ]
  },
  {
   "cell_type": "code",
   "execution_count": 68,
   "metadata": {},
   "outputs": [
    {
     "data": {
      "text/plain": [
       "DMDEDUC2  RIAGENDR\n",
       "1.0       1           5.0\n",
       "          2           5.0\n",
       "2.0       1           4.5\n",
       "          2           5.0\n",
       "3.0       1           4.0\n",
       "          2           5.0\n",
       "4.0       1           4.0\n",
       "          2           4.0\n",
       "5.0       1           3.0\n",
       "          2           3.0\n",
       "Name: DMDHHSIZ, dtype: float64"
      ]
     },
     "execution_count": 68,
     "metadata": {},
     "output_type": "execute_result"
    }
   ],
   "source": [
    "da[(da.RIDAGEYR >= 30) & (da.RIDAGEYR <= 40)].groupby([\"DMDEDUC2\", \"RIAGENDR\"])[\"DMDHHSIZ\"].median()\n"
   ]
  },
  {
   "cell_type": "markdown",
   "metadata": {},
   "source": [
    "## Question 6\n",
    "\n",
    "The participants can be clustered into \"maked variance units\" (MVU) based on every combination of the variables [SDMVSTRA](https://wwwn.cdc.gov/Nchs/Nhanes/2015-2016/DEMO_I.htm#SDMVSTRA) and [SDMVPSU](https://wwwn.cdc.gov/Nchs/Nhanes/2015-2016/DEMO_I.htm#SDMVPSU).  Calculate the mean age ([RIDAGEYR](https://wwwn.cdc.gov/Nchs/Nhanes/2015-2016/DEMO_I.htm#RIDAGEYR)), height ([BMXHT](https://wwwn.cdc.gov/Nchs/Nhanes/2015-2016/BMX_I.htm#BMXHT)), and BMI ([BMXBMI](https://wwwn.cdc.gov/Nchs/Nhanes/2015-2016/BMX_I.htm#BMXBMI)) for each gender ([RIAGENDR](https://wwwn.cdc.gov/Nchs/Nhanes/2015-2016/DEMO_I.htm#RIAGENDR)), within each MVU, and report the ratio between the largest and smallest mean (e.g. for height) across the MVUs."
   ]
  },
  {
   "cell_type": "code",
   "execution_count": 72,
   "metadata": {},
   "outputs": [
    {
     "data": {
      "text/html": [
       "<div>\n",
       "<style scoped>\n",
       "    .dataframe tbody tr th:only-of-type {\n",
       "        vertical-align: middle;\n",
       "    }\n",
       "\n",
       "    .dataframe tbody tr th {\n",
       "        vertical-align: top;\n",
       "    }\n",
       "\n",
       "    .dataframe thead tr th {\n",
       "        text-align: left;\n",
       "    }\n",
       "\n",
       "    .dataframe thead tr:last-of-type th {\n",
       "        text-align: right;\n",
       "    }\n",
       "</style>\n",
       "<table border=\"1\" class=\"dataframe\">\n",
       "  <thead>\n",
       "    <tr>\n",
       "      <th></th>\n",
       "      <th></th>\n",
       "      <th colspan=\"2\" halign=\"left\">RIDAGEYR</th>\n",
       "      <th colspan=\"2\" halign=\"left\">BMXHT</th>\n",
       "      <th colspan=\"2\" halign=\"left\">BMXBMI</th>\n",
       "    </tr>\n",
       "    <tr>\n",
       "      <th></th>\n",
       "      <th>RIAGENDR</th>\n",
       "      <th>1</th>\n",
       "      <th>2</th>\n",
       "      <th>1</th>\n",
       "      <th>2</th>\n",
       "      <th>1</th>\n",
       "      <th>2</th>\n",
       "    </tr>\n",
       "    <tr>\n",
       "      <th>SDMVSTRA</th>\n",
       "      <th>SDMVPSU</th>\n",
       "      <th></th>\n",
       "      <th></th>\n",
       "      <th></th>\n",
       "      <th></th>\n",
       "      <th></th>\n",
       "      <th></th>\n",
       "    </tr>\n",
       "  </thead>\n",
       "  <tbody>\n",
       "    <tr>\n",
       "      <th rowspan=\"2\" valign=\"top\">119</th>\n",
       "      <th>1</th>\n",
       "      <td>47.861111</td>\n",
       "      <td>47.663265</td>\n",
       "      <td>172.741667</td>\n",
       "      <td>159.570408</td>\n",
       "      <td>26.958333</td>\n",
       "      <td>30.052041</td>\n",
       "    </tr>\n",
       "    <tr>\n",
       "      <th>2</th>\n",
       "      <td>54.363636</td>\n",
       "      <td>52.987952</td>\n",
       "      <td>172.906818</td>\n",
       "      <td>159.244578</td>\n",
       "      <td>27.160465</td>\n",
       "      <td>27.849398</td>\n",
       "    </tr>\n",
       "    <tr>\n",
       "      <th rowspan=\"2\" valign=\"top\">120</th>\n",
       "      <th>1</th>\n",
       "      <td>43.130000</td>\n",
       "      <td>43.636364</td>\n",
       "      <td>169.537755</td>\n",
       "      <td>155.402041</td>\n",
       "      <td>30.939175</td>\n",
       "      <td>32.419388</td>\n",
       "    </tr>\n",
       "    <tr>\n",
       "      <th>2</th>\n",
       "      <td>45.219178</td>\n",
       "      <td>43.736111</td>\n",
       "      <td>173.075342</td>\n",
       "      <td>159.218056</td>\n",
       "      <td>27.727397</td>\n",
       "      <td>27.400000</td>\n",
       "    </tr>\n",
       "    <tr>\n",
       "      <th rowspan=\"2\" valign=\"top\">121</th>\n",
       "      <th>1</th>\n",
       "      <td>46.750000</td>\n",
       "      <td>44.397959</td>\n",
       "      <td>172.177885</td>\n",
       "      <td>158.871579</td>\n",
       "      <td>29.416505</td>\n",
       "      <td>30.856842</td>\n",
       "    </tr>\n",
       "    <tr>\n",
       "      <th>2</th>\n",
       "      <td>42.063158</td>\n",
       "      <td>44.376344</td>\n",
       "      <td>174.764516</td>\n",
       "      <td>160.229032</td>\n",
       "      <td>26.273118</td>\n",
       "      <td>26.470968</td>\n",
       "    </tr>\n",
       "    <tr>\n",
       "      <th rowspan=\"2\" valign=\"top\">122</th>\n",
       "      <th>1</th>\n",
       "      <td>44.653061</td>\n",
       "      <td>42.897436</td>\n",
       "      <td>173.998969</td>\n",
       "      <td>161.315385</td>\n",
       "      <td>28.528866</td>\n",
       "      <td>29.447436</td>\n",
       "    </tr>\n",
       "    <tr>\n",
       "      <th>2</th>\n",
       "      <td>44.320000</td>\n",
       "      <td>47.333333</td>\n",
       "      <td>170.332323</td>\n",
       "      <td>157.231111</td>\n",
       "      <td>25.744444</td>\n",
       "      <td>26.611111</td>\n",
       "    </tr>\n",
       "    <tr>\n",
       "      <th rowspan=\"2\" valign=\"top\">123</th>\n",
       "      <th>1</th>\n",
       "      <td>47.829787</td>\n",
       "      <td>44.841121</td>\n",
       "      <td>174.315217</td>\n",
       "      <td>162.059615</td>\n",
       "      <td>29.231522</td>\n",
       "      <td>29.905769</td>\n",
       "    </tr>\n",
       "    <tr>\n",
       "      <th>2</th>\n",
       "      <td>52.126582</td>\n",
       "      <td>46.457447</td>\n",
       "      <td>174.454430</td>\n",
       "      <td>160.476596</td>\n",
       "      <td>28.811392</td>\n",
       "      <td>30.641489</td>\n",
       "    </tr>\n",
       "    <tr>\n",
       "      <th rowspan=\"2\" valign=\"top\">124</th>\n",
       "      <th>1</th>\n",
       "      <td>50.750000</td>\n",
       "      <td>51.664000</td>\n",
       "      <td>172.109009</td>\n",
       "      <td>158.788710</td>\n",
       "      <td>28.614414</td>\n",
       "      <td>29.533065</td>\n",
       "    </tr>\n",
       "    <tr>\n",
       "      <th>2</th>\n",
       "      <td>48.245614</td>\n",
       "      <td>42.541667</td>\n",
       "      <td>174.291228</td>\n",
       "      <td>162.853521</td>\n",
       "      <td>27.714035</td>\n",
       "      <td>28.640845</td>\n",
       "    </tr>\n",
       "    <tr>\n",
       "      <th rowspan=\"2\" valign=\"top\">125</th>\n",
       "      <th>1</th>\n",
       "      <td>55.165289</td>\n",
       "      <td>50.900901</td>\n",
       "      <td>173.631092</td>\n",
       "      <td>160.762385</td>\n",
       "      <td>29.727731</td>\n",
       "      <td>30.385321</td>\n",
       "    </tr>\n",
       "    <tr>\n",
       "      <th>2</th>\n",
       "      <td>49.705882</td>\n",
       "      <td>51.660000</td>\n",
       "      <td>174.456863</td>\n",
       "      <td>160.021429</td>\n",
       "      <td>29.143564</td>\n",
       "      <td>28.564286</td>\n",
       "    </tr>\n",
       "    <tr>\n",
       "      <th rowspan=\"2\" valign=\"top\">126</th>\n",
       "      <th>1</th>\n",
       "      <td>48.416667</td>\n",
       "      <td>46.229167</td>\n",
       "      <td>175.149398</td>\n",
       "      <td>160.387500</td>\n",
       "      <td>29.033333</td>\n",
       "      <td>31.262500</td>\n",
       "    </tr>\n",
       "    <tr>\n",
       "      <th>2</th>\n",
       "      <td>48.666667</td>\n",
       "      <td>47.205882</td>\n",
       "      <td>174.713043</td>\n",
       "      <td>160.892000</td>\n",
       "      <td>29.039130</td>\n",
       "      <td>29.612121</td>\n",
       "    </tr>\n",
       "    <tr>\n",
       "      <th rowspan=\"2\" valign=\"top\">127</th>\n",
       "      <th>1</th>\n",
       "      <td>53.137931</td>\n",
       "      <td>49.694444</td>\n",
       "      <td>171.545349</td>\n",
       "      <td>157.422430</td>\n",
       "      <td>31.062353</td>\n",
       "      <td>32.189720</td>\n",
       "    </tr>\n",
       "    <tr>\n",
       "      <th>2</th>\n",
       "      <td>54.070588</td>\n",
       "      <td>51.486239</td>\n",
       "      <td>173.366667</td>\n",
       "      <td>159.022936</td>\n",
       "      <td>30.557831</td>\n",
       "      <td>30.770642</td>\n",
       "    </tr>\n",
       "    <tr>\n",
       "      <th rowspan=\"2\" valign=\"top\">128</th>\n",
       "      <th>1</th>\n",
       "      <td>53.673267</td>\n",
       "      <td>55.638462</td>\n",
       "      <td>169.325000</td>\n",
       "      <td>156.339063</td>\n",
       "      <td>31.749000</td>\n",
       "      <td>32.303125</td>\n",
       "    </tr>\n",
       "    <tr>\n",
       "      <th>2</th>\n",
       "      <td>45.822785</td>\n",
       "      <td>45.589744</td>\n",
       "      <td>172.400000</td>\n",
       "      <td>160.437179</td>\n",
       "      <td>26.835443</td>\n",
       "      <td>27.491026</td>\n",
       "    </tr>\n",
       "    <tr>\n",
       "      <th rowspan=\"2\" valign=\"top\">129</th>\n",
       "      <th>1</th>\n",
       "      <td>43.922222</td>\n",
       "      <td>45.329787</td>\n",
       "      <td>171.094318</td>\n",
       "      <td>156.900000</td>\n",
       "      <td>26.493182</td>\n",
       "      <td>29.019149</td>\n",
       "    </tr>\n",
       "    <tr>\n",
       "      <th>2</th>\n",
       "      <td>45.775510</td>\n",
       "      <td>43.500000</td>\n",
       "      <td>173.138298</td>\n",
       "      <td>161.034259</td>\n",
       "      <td>28.961702</td>\n",
       "      <td>29.429630</td>\n",
       "    </tr>\n",
       "    <tr>\n",
       "      <th rowspan=\"2\" valign=\"top\">130</th>\n",
       "      <th>1</th>\n",
       "      <td>50.516854</td>\n",
       "      <td>47.810526</td>\n",
       "      <td>176.974157</td>\n",
       "      <td>161.977895</td>\n",
       "      <td>30.337079</td>\n",
       "      <td>30.700000</td>\n",
       "    </tr>\n",
       "    <tr>\n",
       "      <th>2</th>\n",
       "      <td>50.535354</td>\n",
       "      <td>50.833333</td>\n",
       "      <td>175.061224</td>\n",
       "      <td>160.060577</td>\n",
       "      <td>29.237755</td>\n",
       "      <td>31.490385</td>\n",
       "    </tr>\n",
       "    <tr>\n",
       "      <th rowspan=\"2\" valign=\"top\">131</th>\n",
       "      <th>1</th>\n",
       "      <td>53.140187</td>\n",
       "      <td>54.893617</td>\n",
       "      <td>175.610476</td>\n",
       "      <td>161.989362</td>\n",
       "      <td>28.259615</td>\n",
       "      <td>30.061702</td>\n",
       "    </tr>\n",
       "    <tr>\n",
       "      <th>2</th>\n",
       "      <td>46.778846</td>\n",
       "      <td>45.000000</td>\n",
       "      <td>175.091346</td>\n",
       "      <td>161.673810</td>\n",
       "      <td>30.077885</td>\n",
       "      <td>32.984127</td>\n",
       "    </tr>\n",
       "    <tr>\n",
       "      <th rowspan=\"2\" valign=\"top\">132</th>\n",
       "      <th>1</th>\n",
       "      <td>42.380435</td>\n",
       "      <td>43.210526</td>\n",
       "      <td>172.534066</td>\n",
       "      <td>161.508421</td>\n",
       "      <td>28.546154</td>\n",
       "      <td>29.848421</td>\n",
       "    </tr>\n",
       "    <tr>\n",
       "      <th>2</th>\n",
       "      <td>49.038760</td>\n",
       "      <td>51.700000</td>\n",
       "      <td>172.809524</td>\n",
       "      <td>159.138281</td>\n",
       "      <td>28.966667</td>\n",
       "      <td>30.540625</td>\n",
       "    </tr>\n",
       "    <tr>\n",
       "      <th rowspan=\"2\" valign=\"top\">133</th>\n",
       "      <th>1</th>\n",
       "      <td>44.054795</td>\n",
       "      <td>45.105882</td>\n",
       "      <td>171.509722</td>\n",
       "      <td>158.295122</td>\n",
       "      <td>27.495833</td>\n",
       "      <td>27.959259</td>\n",
       "    </tr>\n",
       "    <tr>\n",
       "      <th>2</th>\n",
       "      <td>47.489796</td>\n",
       "      <td>47.063158</td>\n",
       "      <td>171.179167</td>\n",
       "      <td>158.627368</td>\n",
       "      <td>27.966667</td>\n",
       "      <td>29.000000</td>\n",
       "    </tr>\n",
       "  </tbody>\n",
       "</table>\n",
       "</div>"
      ],
      "text/plain": [
       "                   RIDAGEYR                  BMXHT                 BMXBMI  \\\n",
       "RIAGENDR                  1          2           1           2          1   \n",
       "SDMVSTRA SDMVPSU                                                            \n",
       "119      1        47.861111  47.663265  172.741667  159.570408  26.958333   \n",
       "         2        54.363636  52.987952  172.906818  159.244578  27.160465   \n",
       "120      1        43.130000  43.636364  169.537755  155.402041  30.939175   \n",
       "         2        45.219178  43.736111  173.075342  159.218056  27.727397   \n",
       "121      1        46.750000  44.397959  172.177885  158.871579  29.416505   \n",
       "         2        42.063158  44.376344  174.764516  160.229032  26.273118   \n",
       "122      1        44.653061  42.897436  173.998969  161.315385  28.528866   \n",
       "         2        44.320000  47.333333  170.332323  157.231111  25.744444   \n",
       "123      1        47.829787  44.841121  174.315217  162.059615  29.231522   \n",
       "         2        52.126582  46.457447  174.454430  160.476596  28.811392   \n",
       "124      1        50.750000  51.664000  172.109009  158.788710  28.614414   \n",
       "         2        48.245614  42.541667  174.291228  162.853521  27.714035   \n",
       "125      1        55.165289  50.900901  173.631092  160.762385  29.727731   \n",
       "         2        49.705882  51.660000  174.456863  160.021429  29.143564   \n",
       "126      1        48.416667  46.229167  175.149398  160.387500  29.033333   \n",
       "         2        48.666667  47.205882  174.713043  160.892000  29.039130   \n",
       "127      1        53.137931  49.694444  171.545349  157.422430  31.062353   \n",
       "         2        54.070588  51.486239  173.366667  159.022936  30.557831   \n",
       "128      1        53.673267  55.638462  169.325000  156.339063  31.749000   \n",
       "         2        45.822785  45.589744  172.400000  160.437179  26.835443   \n",
       "129      1        43.922222  45.329787  171.094318  156.900000  26.493182   \n",
       "         2        45.775510  43.500000  173.138298  161.034259  28.961702   \n",
       "130      1        50.516854  47.810526  176.974157  161.977895  30.337079   \n",
       "         2        50.535354  50.833333  175.061224  160.060577  29.237755   \n",
       "131      1        53.140187  54.893617  175.610476  161.989362  28.259615   \n",
       "         2        46.778846  45.000000  175.091346  161.673810  30.077885   \n",
       "132      1        42.380435  43.210526  172.534066  161.508421  28.546154   \n",
       "         2        49.038760  51.700000  172.809524  159.138281  28.966667   \n",
       "133      1        44.054795  45.105882  171.509722  158.295122  27.495833   \n",
       "         2        47.489796  47.063158  171.179167  158.627368  27.966667   \n",
       "\n",
       "                             \n",
       "RIAGENDR                  2  \n",
       "SDMVSTRA SDMVPSU             \n",
       "119      1        30.052041  \n",
       "         2        27.849398  \n",
       "120      1        32.419388  \n",
       "         2        27.400000  \n",
       "121      1        30.856842  \n",
       "         2        26.470968  \n",
       "122      1        29.447436  \n",
       "         2        26.611111  \n",
       "123      1        29.905769  \n",
       "         2        30.641489  \n",
       "124      1        29.533065  \n",
       "         2        28.640845  \n",
       "125      1        30.385321  \n",
       "         2        28.564286  \n",
       "126      1        31.262500  \n",
       "         2        29.612121  \n",
       "127      1        32.189720  \n",
       "         2        30.770642  \n",
       "128      1        32.303125  \n",
       "         2        27.491026  \n",
       "129      1        29.019149  \n",
       "         2        29.429630  \n",
       "130      1        30.700000  \n",
       "         2        31.490385  \n",
       "131      1        30.061702  \n",
       "         2        32.984127  \n",
       "132      1        29.848421  \n",
       "         2        30.540625  \n",
       "133      1        27.959259  \n",
       "         2        29.000000  "
      ]
     },
     "execution_count": 72,
     "metadata": {},
     "output_type": "execute_result"
    }
   ],
   "source": [
    "da.groupby(['SDMVSTRA', 'SDMVPSU', 'RIAGENDR']) \\\n",
    "    [['RIDAGEYR', 'BMXHT', 'BMXBMI']] \\\n",
    "    .mean().unstack()"
   ]
  },
  {
   "cell_type": "markdown",
   "metadata": {},
   "source": [
    "__Q6a.__ Comment on the extent to which mean age, height, and BMI vary among the MVUs."
   ]
  },
  {
   "cell_type": "raw",
   "metadata": {},
   "source": []
  },
  {
   "cell_type": "markdown",
   "metadata": {},
   "source": [
    "__Q6b.__ Calculate the inter-quartile range (IQR) for age, height, and BMI for each gender and each MVU.  Report the ratio between the largest and smalles IQR across the MVUs."
   ]
  },
  {
   "cell_type": "code",
   "execution_count": null,
   "metadata": {},
   "outputs": [],
   "source": [
    "# insert your code here"
   ]
  },
  {
   "cell_type": "markdown",
   "metadata": {},
   "source": [
    "__Q6c.__ Comment on the extent to which the IQR for age, height, and BMI vary among the MVUs."
   ]
  },
  {
   "cell_type": "raw",
   "metadata": {},
   "source": []
  }
 ],
 "metadata": {
  "kernelspec": {
   "display_name": "Python 3",
   "language": "python",
   "name": "python3"
  },
  "language_info": {
   "codemirror_mode": {
    "name": "ipython",
    "version": 3
   },
   "file_extension": ".py",
   "mimetype": "text/x-python",
   "name": "python",
   "nbconvert_exporter": "python",
   "pygments_lexer": "ipython3",
   "version": "3.7.6"
  }
 },
 "nbformat": 4,
 "nbformat_minor": 2
}
